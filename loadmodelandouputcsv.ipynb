{
 "cells": [
  {
   "cell_type": "code",
   "execution_count": 1,
   "metadata": {},
   "outputs": [],
   "source": [
    "import tensorflow as tf\n",
    "import os"
   ]
  },
  {
   "cell_type": "code",
   "execution_count": 2,
   "metadata": {},
   "outputs": [],
   "source": [
    "model = tf.keras.models.load_model(\"data01_20200521_46epochs.h5\")"
   ]
  },
  {
   "cell_type": "code",
   "execution_count": 3,
   "metadata": {},
   "outputs": [
    {
     "output_type": "stream",
     "name": "stdout",
     "text": "Model: \"model_1\"\n__________________________________________________________________________________________________\nLayer (type)                    Output Shape         Param #     Connected to                     \n==================================================================================================\ninput_2 (InputLayer)            [(None, 60, 200, 3)] 0                                            \n__________________________________________________________________________________________________\nconv2d_7 (Conv2D)               (None, 60, 200, 32)  896         input_2[0][0]                    \n__________________________________________________________________________________________________\nconv2d_8 (Conv2D)               (None, 58, 198, 32)  9248        conv2d_7[0][0]                   \n__________________________________________________________________________________________________\nbatch_normalization_4 (BatchNor (None, 58, 198, 32)  128         conv2d_8[0][0]                   \n__________________________________________________________________________________________________\nmax_pooling2d_4 (MaxPooling2D)  (None, 29, 99, 32)   0           batch_normalization_4[0][0]      \n__________________________________________________________________________________________________\ndropout_4 (Dropout)             (None, 29, 99, 32)   0           max_pooling2d_4[0][0]            \n__________________________________________________________________________________________________\nconv2d_9 (Conv2D)               (None, 29, 99, 64)   18496       dropout_4[0][0]                  \n__________________________________________________________________________________________________\nconv2d_10 (Conv2D)              (None, 27, 97, 64)   36928       conv2d_9[0][0]                   \n__________________________________________________________________________________________________\nbatch_normalization_5 (BatchNor (None, 27, 97, 64)   256         conv2d_10[0][0]                  \n__________________________________________________________________________________________________\nmax_pooling2d_5 (MaxPooling2D)  (None, 13, 48, 64)   0           batch_normalization_5[0][0]      \n__________________________________________________________________________________________________\ndropout_5 (Dropout)             (None, 13, 48, 64)   0           max_pooling2d_5[0][0]            \n__________________________________________________________________________________________________\nconv2d_11 (Conv2D)              (None, 13, 48, 128)  73856       dropout_5[0][0]                  \n__________________________________________________________________________________________________\nconv2d_12 (Conv2D)              (None, 11, 46, 128)  147584      conv2d_11[0][0]                  \n__________________________________________________________________________________________________\nbatch_normalization_6 (BatchNor (None, 11, 46, 128)  512         conv2d_12[0][0]                  \n__________________________________________________________________________________________________\nmax_pooling2d_6 (MaxPooling2D)  (None, 5, 23, 128)   0           batch_normalization_6[0][0]      \n__________________________________________________________________________________________________\ndropout_6 (Dropout)             (None, 5, 23, 128)   0           max_pooling2d_6[0][0]            \n__________________________________________________________________________________________________\nconv2d_13 (Conv2D)              (None, 5, 23, 256)   295168      dropout_6[0][0]                  \n__________________________________________________________________________________________________\nconv2d_14 (Conv2D)              (None, 3, 21, 256)   590080      conv2d_13[0][0]                  \n__________________________________________________________________________________________________\nbatch_normalization_7 (BatchNor (None, 3, 21, 256)   1024        conv2d_14[0][0]                  \n__________________________________________________________________________________________________\nmax_pooling2d_7 (MaxPooling2D)  (None, 1, 10, 256)   0           batch_normalization_7[0][0]      \n__________________________________________________________________________________________________\nflatten_1 (Flatten)             (None, 2560)         0           max_pooling2d_7[0][0]            \n__________________________________________________________________________________________________\ndropout_7 (Dropout)             (None, 2560)         0           flatten_1[0][0]                  \n__________________________________________________________________________________________________\ndigit1 (Dense)                  (None, 36)           92196       dropout_7[0][0]                  \n__________________________________________________________________________________________________\ndigit2 (Dense)                  (None, 36)           92196       dropout_7[0][0]                  \n__________________________________________________________________________________________________\ndigit3 (Dense)                  (None, 36)           92196       dropout_7[0][0]                  \n__________________________________________________________________________________________________\ndigit4 (Dense)                  (None, 36)           92196       dropout_7[0][0]                  \n__________________________________________________________________________________________________\ndigit5 (Dense)                  (None, 36)           92196       dropout_7[0][0]                  \n__________________________________________________________________________________________________\ndigit6 (Dense)                  (None, 36)           92196       dropout_7[0][0]                  \n==================================================================================================\nTotal params: 1,727,352\nTrainable params: 1,726,392\nNon-trainable params: 960\n__________________________________________________________________________________________________\n"
    }
   ],
   "source": [
    "model.summary()"
   ]
  },
  {
   "cell_type": "code",
   "execution_count": 4,
   "metadata": {},
   "outputs": [],
   "source": [
    "#no crop function\n",
    "def parse_label(strIN):\n",
    "    return (strIN==CLASS_NAMES).astype(float)\n",
    "def readimg_to_tensor(fn):\n",
    "    a = tf.io.read_file((fn))\n",
    "        #crop to [60,30,3]\n",
    "    img = tf.io.decode_jpeg(a)\n",
    "    return img\n",
    "\n",
    "val_dir_data01 = os.path.abspath(os.getcwd())+\"\\\\dev\\\\data01_dev\"\n",
    "#validation data no crop\n",
    "val_dir = tf.data.Dataset.list_files(val_dir_data01+'*.jpg',shuffle=False) \n",
    "val_data01 = val_dir.map(lambda x: readimg_to_tensor(x))"
   ]
  },
  {
   "cell_type": "code",
   "execution_count": 5,
   "metadata": {},
   "outputs": [],
   "source": [
    "import numpy as np\n",
    "import pandas as pd"
   ]
  },
  {
   "cell_type": "code",
   "execution_count": 6,
   "metadata": {},
   "outputs": [],
   "source": [
    "\n",
    "CLASS_NAMES = np.array([])\n",
    "for i in range(10):\n",
    "    CLASS_NAMES =np.append(CLASS_NAMES,chr(ord(\"0\")+i))\n",
    "for i in range(26):\n",
    "    CLASS_NAMES = np.append(CLASS_NAMES,chr(ord(\"A\")+i))"
   ]
  },
  {
   "cell_type": "code",
   "execution_count": 7,
   "metadata": {},
   "outputs": [],
   "source": [
    "def parseResult(RS):\n",
    "    for j in range(len(RS[0])):\n",
    "        PredChr=''\n",
    "        for i in range(6):\n",
    "            PredChr+= CLASS_NAMES[(np.where(RS[i][j] == RS[i][j].max())[0][0])]\n",
    "        if j == 0:\n",
    "            LB = [PredChr]\n",
    "        else:\n",
    "            LB.append(PredChr)      \n",
    "    return LB\n",
    "#output to CSV\n",
    "VDlabel = np.array([])\n",
    "img = next(iter(val_data01.batch(10000)))\n",
    "result = model.predict(img,use_multiprocessing = True)\n",
    "val_dir = tf.data.Dataset.list_files(val_dir_data01+'*.jpg',shuffle=False) \n",
    "test = parseResult(result)\n",
    "val_file_name = pd.read_csv(\"./dev/data01_dev.csv\")\n",
    "val_file_name.join(pd.DataFrame(test,columns=[\"code\"])).to_csv(\"data01_dev.csv\",index = False)      "
   ]
  },
  {
   "cell_type": "code",
   "execution_count": null,
   "metadata": {},
   "outputs": [],
   "source": []
  }
 ],
 "metadata": {
  "language_info": {
   "codemirror_mode": {
    "name": "ipython",
    "version": 3
   },
   "file_extension": ".py",
   "mimetype": "text/x-python",
   "name": "python",
   "nbconvert_exporter": "python",
   "pygments_lexer": "ipython3",
   "version": "3.7.7-final"
  },
  "orig_nbformat": 2,
  "kernelspec": {
   "name": "python37764bitmyenvcondac89683127ca741bc84ed6db3ffcad32d",
   "display_name": "Python 3.7.7 64-bit ('myenv': conda)"
  }
 },
 "nbformat": 4,
 "nbformat_minor": 2
}