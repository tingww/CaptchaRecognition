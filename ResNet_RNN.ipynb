{
 "cells": [
  {
   "cell_type": "code",
   "execution_count": null,
   "metadata": {},
   "outputs": [],
   "source": [
    "!tar zxvf ./drive/My\\ Drive/Colab\\ Notebooks/train.tgz\n",
    "!pip install wandb"
   ]
  },
  {
   "cell_type": "code",
   "execution_count": null,
   "metadata": {},
   "outputs": [],
   "source": [
    "!wandb login"
   ]
  },
  {
   "cell_type": "markdown",
   "metadata": {},
   "source": [
    "# CAPTCHA Recognition - 6 digits"
   ]
  },
  {
   "cell_type": "code",
   "execution_count": 1,
   "metadata": {},
   "outputs": [],
   "source": [
    "import tensorflow as tf\n",
    "import os\n",
    "import numpy as np\n",
    "import pandas as pd"
   ]
  },
  {
   "cell_type": "code",
   "execution_count": 2,
   "metadata": {},
   "outputs": [],
   "source": [
    "from tensorflow.keras import backend\n",
    "from tensorflow.keras import layers"
   ]
  },
  {
   "cell_type": "code",
   "execution_count": 3,
   "metadata": {},
   "outputs": [],
   "source": [
    "import wandb"
   ]
  },
  {
   "cell_type": "markdown",
   "metadata": {},
   "source": [
    "# Parsing Data"
   ]
  },
  {
   "cell_type": "code",
   "execution_count": 4,
   "metadata": {},
   "outputs": [],
   "source": [
    "CLASS_NAMES = np.array([])\n",
    "for i in range(10):\n",
    "    CLASS_NAMES =np.append(CLASS_NAMES,chr(ord(\"0\")+i))\n",
    "for i in range(26):\n",
    "    CLASS_NAMES = np.append(CLASS_NAMES,chr(ord(\"A\")+i))\n",
    "\n",
    "#functions\n",
    "def parse_label(strIN):\n",
    "    return (strIN==CLASS_NAMES).astype(float)\n",
    "def readimg_to_tensor(fn):\n",
    "    a = tf.io.read_file((fn))\n",
    "    img = tf.io.decode_jpeg(a)\n",
    "    return img"
   ]
  },
  {
   "cell_type": "code",
   "execution_count": 5,
   "metadata": {},
   "outputs": [],
   "source": [
    "#training data 01 \n",
    "train_dir_data01 = os.path.abspath(os.getcwd())+\"/train/data01_train/\"\n",
    "data = pd.read_csv(\"./train/data01_train.csv\")\n",
    "for i in range(len(data)):\n",
    "    data.iloc[i,1] = list(data.iloc[i,1])\n",
    "arr = np.zeros([6,50000],str)\n",
    "for j in range(6):\n",
    "    for i in range(len(data)):\n",
    "        arr[j][i] = data.iloc[i,1][j]\n",
    "data = data.drop(columns= [\"code\"]).join(pd.DataFrame(arr.transpose(),columns = [\"code0\",\"code1\",'code2','code3','code4','code5']))\n",
    "\n",
    "for i in range(6):\n",
    "    data.iloc[:,i+1] = data.iloc[:,i+1].map(parse_label)\n",
    "\n",
    "TL = tf.convert_to_tensor(list(data.iloc[:,1].values))\n",
    "TL2 = tf.convert_to_tensor(list(data.iloc[:,2].values))\n",
    "TL3 = tf.convert_to_tensor(list(data.iloc[:,3].values))\n",
    "TL4 = tf.convert_to_tensor(list(data.iloc[:,4].values))\n",
    "TL5 = tf.convert_to_tensor(list(data.iloc[:,5].values))\n",
    "TL6 = tf.convert_to_tensor(list(data.iloc[:,6].values))\n",
    "\n",
    "train_dir = tf.data.Dataset.list_files(train_dir_data01+'*.jpg',shuffle=False) \n",
    "train_data = train_dir.map(lambda x: readimg_to_tensor(x))\n",
    "train_label = tf.data.Dataset.from_tensor_slices((TL,TL2,TL3,TL4,TL5,TL6))\n",
    "train_data01=tf.data.Dataset.zip((train_data,train_label))"
   ]
  },
  {
   "cell_type": "code",
   "execution_count": null,
   "metadata": {},
   "outputs": [],
   "source": [
    "#training data 02\n",
    "train_dir_data02 = os.path.abspath(os.getcwd())+\"/train/data02_train/\"\n",
    "data2 = pd.read_csv(\"./train/data02_train.csv\")\n",
    "for i in range(len(data2)):\n",
    "    data2.iloc[i,1] = list(data2.iloc[i,1])\n",
    "arr = np.zeros([6,50000],str)\n",
    "for j in range(6):\n",
    "    for i in range(len(data2)):\n",
    "        arr[j][i] = data2.iloc[i,1][j]\n",
    "data2 = data2.drop(columns= [\"code\"]).join(pd.DataFrame(arr.transpose(),columns = [\"code0\",\"code1\",'code2','code3','code4','code5']))\n",
    "\n",
    "#to one hot\n",
    "for i in range(6):\n",
    "    data2.iloc[:,i+1] = data2.iloc[:,i+1].map(parse_label)\n",
    "\n",
    "TL = tf.convert_to_tensor(list(data2.iloc[:,1].values))\n",
    "TL2 = tf.convert_to_tensor(list(data2.iloc[:,2].values))\n",
    "TL3 = tf.convert_to_tensor(list(data2.iloc[:,3].values))\n",
    "TL4 = tf.convert_to_tensor(list(data2.iloc[:,4].values))\n",
    "TL5 = tf.convert_to_tensor(list(data2.iloc[:,5].values))\n",
    "TL6 = tf.convert_to_tensor(list(data2.iloc[:,6].values))\n",
    "\n",
    "train_dir2 = tf.data.Dataset.list_files(train_dir_data02+'*.jpg',shuffle=False) \n",
    "train_data2 = train_dir2.map(lambda x: readimg_to_tensor(x))\n",
    "train_label2 = tf.data.Dataset.from_tensor_slices((TL,TL2,TL3,TL4,TL5,TL6))\n",
    "train_data02=tf.data.Dataset.zip((train_data2,train_label2))"
   ]
  },
  {
   "cell_type": "code",
   "execution_count": 6,
   "metadata": {},
   "outputs": [
    {
     "output_type": "execute_result",
     "data": {
      "text/plain": "50000"
     },
     "metadata": {},
     "execution_count": 6
    }
   ],
   "source": [
    "#number of element\n",
    "num_elements = tf.data.experimental.cardinality(train_data01).numpy()\n",
    "num_elements"
   ]
  },
  {
   "cell_type": "code",
   "execution_count": 7,
   "metadata": {},
   "outputs": [],
   "source": [
    "def prepData01(): \n",
    "  validation_split=0.1\n",
    "  split = int(num_elements*validation_split)\n",
    "  train_data_gen=iter(train_data01.shuffle(10000).batch(10000))\n",
    "\n",
    "  img , lb = next(train_data_gen)\n",
    "  #img_train = img[:-split]\n",
    "  #lb_train = (lb[0][:-split],lb[1][:-split],lb[2][:-split],lb[3][:-split],lb[4][:-split],lb[5][:-split])\n",
    "  #img_test = img[-split:]\n",
    "  #lb_test = (lb[0][-split:],lb[1][-split:],lb[2][-split:],lb[3][-split:],lb[4][-split:],lb[5][-split:])\n",
    "  return img,lb"
   ]
  },
  {
   "cell_type": "markdown",
   "metadata": {},
   "source": [
    "# Model configeration"
   ]
  },
  {
   "cell_type": "code",
   "execution_count": 9,
   "metadata": {},
   "outputs": [],
   "source": [
    "#ini and regul\n",
    "initializer = tf.keras.initializers.he_normal( seed = 3)\n",
    "alpha = 0.0001  # weight decay coefficient 0.001 Fail\n",
    "regularizer = tf.keras.regularizers.l2(alpha)"
   ]
  },
  {
   "cell_type": "code",
   "execution_count": 18,
   "metadata": {},
   "outputs": [],
   "source": [
    "#pre activate\n",
    "def block2(x, filters, kernel_size=3, stride=1, conv_shortcut=True, name=None):\n",
    "  \"\"\"A residual block.\n",
    "  Arguments:\n",
    "      x: input tensor.\n",
    "      filters: integer, filters of the bottleneck layer.\n",
    "      kernel_size: default 3, kernel size of the bottleneck layer.\n",
    "      stride: default 1, stride of the first layer.\n",
    "      conv_shortcut: default False, use convolution shortcut if True,\n",
    "        otherwise identity shortcut.\n",
    "      name: string, block label.\n",
    "  Returns:\n",
    "    Output tensor for the residual block.\n",
    "  \"\"\"\n",
    "  bn_axis = 3 if backend.image_data_format() == 'channels_last' else 1\n",
    "\n",
    "  preact = layers.BatchNormalization(\n",
    "      axis=bn_axis, epsilon=1.001e-5, name=name + '_preact_bn')(x)\n",
    "  preact = layers.Activation('relu', name=name + '_preact_relu')(preact)\n",
    "\n",
    "  if conv_shortcut:\n",
    "    shortcut = layers.Conv2D(\n",
    "        4 * filters, 1, strides=stride, name=name + '_0_conv', kernel_initializer = initializer,kernel_regularizer = regularizer)(x)\n",
    "  else:\n",
    "    shortcut = layers.MaxPooling2D(1, strides=stride)(x) if stride > 1 else x\n",
    "\n",
    "  x = layers.Conv2D(\n",
    "      filters, 1, strides=1, use_bias=False, name=name + '_1_conv', kernel_initializer = initializer,kernel_regularizer = regularizer)(preact)\n",
    "  x = layers.BatchNormalization(\n",
    "      axis=bn_axis, epsilon=1.001e-5, name=name + '_1_bn')(x)\n",
    "  x = layers.Activation('relu', name=name + '_1_relu')(x)\n",
    "\n",
    "  x = layers.ZeroPadding2D(padding=((1, 1), (1, 1)), name=name + '_2_pad')(x)\n",
    "  x = layers.Conv2D(\n",
    "      filters,\n",
    "      kernel_size,\n",
    "      strides=stride,\n",
    "      use_bias=False,\n",
    "      name=name + '_2_conv', kernel_initializer = initializer,kernel_regularizer = regularizer)(x)\n",
    "  x = layers.BatchNormalization(\n",
    "      axis=bn_axis, epsilon=1.001e-5, name=name + '_2_bn')(x)\n",
    "  x = layers.Activation('relu', name=name + '_2_relu')(x)\n",
    "\n",
    "  x = layers.Conv2D(4 * filters, 1, name=name + '_3_conv', kernel_initializer = initializer,kernel_regularizer = regularizer)(x)\n",
    "  x = layers.Dropout(0.3)(x)\n",
    "  x = layers.Add(name=name + '_out')([shortcut, x])\n",
    "  return x\n",
    "\n",
    "def stack1(x, filters, blocks, stride1=2, name=None):\n",
    "  \"\"\"A set of stacked residual blocks.\n",
    "  Arguments:\n",
    "    x: input tensor.\n",
    "    filters: integer, filters of the bottleneck layer in a block.\n",
    "    blocks: integer, blocks in the stacked blocks.\n",
    "    stride1: default 2, stride of the first layer in the first block.\n",
    "    name: string, stack label.\n",
    "  Returns:\n",
    "    Output tensor for the stacked blocks.\n",
    "  \"\"\"\n",
    "  x = block2(x, filters, conv_shortcut=True ,stride=stride1, name=name + '_block1')\n",
    "  for i in range(2, blocks + 1):\n",
    "    x = block2(x, filters, conv_shortcut=False, name=name + '_block' + str(i))\n",
    "  return x"
   ]
  },
  {
   "cell_type": "code",
   "execution_count": 19,
   "metadata": {},
   "outputs": [],
   "source": [
    "def buildModel(modelname=\"myResNet\"):\n",
    "  bn_axis = 3 \n",
    "  #ResNet+RNN config\n",
    "  def stack_fn(x):\n",
    "    x = stack1(x, 64, 3, stride1=1, name='conv2')\n",
    "    x = stack1(x, 128, 4, name='conv3')\n",
    "    return stack1(x, 256, 3, name='conv4')\n",
    "  #input shape\n",
    "  img_input = layers.Input(shape=(60,200,3))\n",
    "\n",
    "  x = layers.ZeroPadding2D(\n",
    "      padding=((1, 1), (1, 1)), name='conv1_pad')(img_input)\n",
    "  x = layers.Conv2D(32, 3, strides=2, use_bias=True, name='conv1_conv',kernel_initializer = initializer,kernel_regularizer = regularizer)(x)\n",
    "  #pre act\n",
    "  x = layers.ZeroPadding2D(padding=((1, 1), (1, 1)), name='pool1_pad')(x)\n",
    "  x = layers.MaxPooling2D(3, strides=2, name='pool1_pool')(x)\n",
    "  x = layers.Dropout(0.3)(x)\n",
    "  x = stack_fn(x)\n",
    "  \n",
    "  x = layers.BatchNormalization(\n",
    "        axis=bn_axis, epsilon=1.001e-5, name='post_bn')(x)\n",
    "  x = layers.Activation('relu', name='post_relu')(x)\n",
    "  x = layers.GlobalAveragePooling2D(name='avg_pool')(x)\n",
    "  #RNN\n",
    "  x = layers.RepeatVector(6)(x)\n",
    "  x = layers.GRU(128,return_sequences=True)(x)\n",
    "  x = layers.GRU(128,return_sequences=True)(x)\n",
    "  #classify\n",
    "  digit1 = layers.Dense(36, name='digit1', activation='softmax',kernel_initializer = initializer,kernel_regularizer = regularizer)(x)\n",
    "  #digit2 = layers.Dense(36, name='digit2', activation='softmax')(x)\n",
    "  #digit3 = layers.Dense(36, name='digit3', activation='softmax')(x)\n",
    "  #digit4 = layers.Dense(36, name='digit4', activation='softmax')(x)\n",
    "  #digit5 = layers.Dense(36, name='digit5', activation='softmax')(x)\n",
    "  #digit6 = layers.Dense(36, name='digit6', activation='softmax')(x)\n",
    "  modelt = tf.keras.models.Model(inputs=img_input,outputs = digit1, name = modelname)\n",
    "  modelt.compile(\n",
    "    loss=[\n",
    "        tf.keras.losses.CategoricalCrossentropy(),\n",
    "        tf.keras.losses.CategoricalCrossentropy(),\n",
    "        tf.keras.losses.CategoricalCrossentropy(),\n",
    "        tf.keras.losses.CategoricalCrossentropy(),\n",
    "        tf.keras.losses.CategoricalCrossentropy(),\n",
    "        tf.keras.losses.CategoricalCrossentropy(),\n",
    "    ],\n",
    "    optimizer=tf.keras.optimizers.Adam(learning_rate=0.001, beta_1=0.9), \n",
    "    metrics=['accuracy'])\n",
    "  return modelt"
   ]
  },
  {
   "cell_type": "code",
   "execution_count": 20,
   "metadata": {},
   "outputs": [],
   "source": [
    "mymodel = buildModel()"
   ]
  },
  {
   "cell_type": "code",
   "execution_count": 21,
   "metadata": {},
   "outputs": [
    {
     "output_type": "stream",
     "name": "stdout",
     "text": "Model: \"myResNet\"\n__________________________________________________________________________________________________\nLayer (type)                    Output Shape         Param #     Connected to                     \n==================================================================================================\ninput_2 (InputLayer)            [(None, 60, 200, 3)] 0                                            \n__________________________________________________________________________________________________\nconv1_pad (ZeroPadding2D)       (None, 62, 202, 3)   0           input_2[0][0]                    \n__________________________________________________________________________________________________\nconv1_conv (Conv2D)             (None, 30, 100, 32)  896         conv1_pad[0][0]                  \n__________________________________________________________________________________________________\npool1_pad (ZeroPadding2D)       (None, 32, 102, 32)  0           conv1_conv[0][0]                 \n__________________________________________________________________________________________________\npool1_pool (MaxPooling2D)       (None, 15, 50, 32)   0           pool1_pad[0][0]                  \n__________________________________________________________________________________________________\ndropout_10 (Dropout)            (None, 15, 50, 32)   0           pool1_pool[0][0]                 \n__________________________________________________________________________________________________\nconv2_block1_preact_bn (BatchNo (None, 15, 50, 32)   128         dropout_10[0][0]                 \n__________________________________________________________________________________________________\nconv2_block1_preact_relu (Activ (None, 15, 50, 32)   0           conv2_block1_preact_bn[0][0]     \n__________________________________________________________________________________________________\nconv2_block1_1_conv (Conv2D)    (None, 15, 50, 64)   2048        conv2_block1_preact_relu[0][0]   \n__________________________________________________________________________________________________\nconv2_block1_1_bn (BatchNormali (None, 15, 50, 64)   256         conv2_block1_1_conv[0][0]        \n__________________________________________________________________________________________________\nconv2_block1_1_relu (Activation (None, 15, 50, 64)   0           conv2_block1_1_bn[0][0]          \n__________________________________________________________________________________________________\nconv2_block1_2_pad (ZeroPadding (None, 17, 52, 64)   0           conv2_block1_1_relu[0][0]        \n__________________________________________________________________________________________________\nconv2_block1_2_conv (Conv2D)    (None, 15, 50, 64)   36864       conv2_block1_2_pad[0][0]         \n__________________________________________________________________________________________________\nconv2_block1_2_bn (BatchNormali (None, 15, 50, 64)   256         conv2_block1_2_conv[0][0]        \n__________________________________________________________________________________________________\nconv2_block1_2_relu (Activation (None, 15, 50, 64)   0           conv2_block1_2_bn[0][0]          \n__________________________________________________________________________________________________\nconv2_block1_3_conv (Conv2D)    (None, 15, 50, 256)  16640       conv2_block1_2_relu[0][0]        \n__________________________________________________________________________________________________\nconv2_block1_0_conv (Conv2D)    (None, 15, 50, 256)  8448        dropout_10[0][0]                 \n__________________________________________________________________________________________________\ndropout_11 (Dropout)            (None, 15, 50, 256)  0           conv2_block1_3_conv[0][0]        \n__________________________________________________________________________________________________\nconv2_block1_out (Add)          (None, 15, 50, 256)  0           conv2_block1_0_conv[0][0]        \n                                                                 dropout_11[0][0]                 \n__________________________________________________________________________________________________\nconv2_block2_preact_bn (BatchNo (None, 15, 50, 256)  1024        conv2_block1_out[0][0]           \n__________________________________________________________________________________________________\nconv2_block2_preact_relu (Activ (None, 15, 50, 256)  0           conv2_block2_preact_bn[0][0]     \n__________________________________________________________________________________________________\nconv2_block2_1_conv (Conv2D)    (None, 15, 50, 64)   16384       conv2_block2_preact_relu[0][0]   \n__________________________________________________________________________________________________\nconv2_block2_1_bn (BatchNormali (None, 15, 50, 64)   256         conv2_block2_1_conv[0][0]        \n__________________________________________________________________________________________________\nconv2_block2_1_relu (Activation (None, 15, 50, 64)   0           conv2_block2_1_bn[0][0]          \n__________________________________________________________________________________________________\nconv2_block2_2_pad (ZeroPadding (None, 17, 52, 64)   0           conv2_block2_1_relu[0][0]        \n__________________________________________________________________________________________________\nconv2_block2_2_conv (Conv2D)    (None, 15, 50, 64)   36864       conv2_block2_2_pad[0][0]         \n__________________________________________________________________________________________________\nconv2_block2_2_bn (BatchNormali (None, 15, 50, 64)   256         conv2_block2_2_conv[0][0]        \n__________________________________________________________________________________________________\nconv2_block2_2_relu (Activation (None, 15, 50, 64)   0           conv2_block2_2_bn[0][0]          \n__________________________________________________________________________________________________\nconv2_block2_3_conv (Conv2D)    (None, 15, 50, 256)  16640       conv2_block2_2_relu[0][0]        \n__________________________________________________________________________________________________\ndropout_12 (Dropout)            (None, 15, 50, 256)  0           conv2_block2_3_conv[0][0]        \n__________________________________________________________________________________________________\nconv2_block2_out (Add)          (None, 15, 50, 256)  0           conv2_block1_out[0][0]           \n                                                                 dropout_12[0][0]                 \n__________________________________________________________________________________________________\nconv2_block3_preact_bn (BatchNo (None, 15, 50, 256)  1024        conv2_block2_out[0][0]           \n__________________________________________________________________________________________________\nconv2_block3_preact_relu (Activ (None, 15, 50, 256)  0           conv2_block3_preact_bn[0][0]     \n__________________________________________________________________________________________________\nconv2_block3_1_conv (Conv2D)    (None, 15, 50, 64)   16384       conv2_block3_preact_relu[0][0]   \n__________________________________________________________________________________________________\nconv2_block3_1_bn (BatchNormali (None, 15, 50, 64)   256         conv2_block3_1_conv[0][0]        \n__________________________________________________________________________________________________\nconv2_block3_1_relu (Activation (None, 15, 50, 64)   0           conv2_block3_1_bn[0][0]          \n__________________________________________________________________________________________________\nconv2_block3_2_pad (ZeroPadding (None, 17, 52, 64)   0           conv2_block3_1_relu[0][0]        \n__________________________________________________________________________________________________\nconv2_block3_2_conv (Conv2D)    (None, 15, 50, 64)   36864       conv2_block3_2_pad[0][0]         \n__________________________________________________________________________________________________\nconv2_block3_2_bn (BatchNormali (None, 15, 50, 64)   256         conv2_block3_2_conv[0][0]        \n__________________________________________________________________________________________________\nconv2_block3_2_relu (Activation (None, 15, 50, 64)   0           conv2_block3_2_bn[0][0]          \n__________________________________________________________________________________________________\nconv2_block3_3_conv (Conv2D)    (None, 15, 50, 256)  16640       conv2_block3_2_relu[0][0]        \n__________________________________________________________________________________________________\ndropout_13 (Dropout)            (None, 15, 50, 256)  0           conv2_block3_3_conv[0][0]        \n__________________________________________________________________________________________________\nconv2_block3_out (Add)          (None, 15, 50, 256)  0           conv2_block2_out[0][0]           \n                                                                 dropout_13[0][0]                 \n__________________________________________________________________________________________________\nconv3_block1_preact_bn (BatchNo (None, 15, 50, 256)  1024        conv2_block3_out[0][0]           \n__________________________________________________________________________________________________\nconv3_block1_preact_relu (Activ (None, 15, 50, 256)  0           conv3_block1_preact_bn[0][0]     \n__________________________________________________________________________________________________\nconv3_block1_1_conv (Conv2D)    (None, 15, 50, 128)  32768       conv3_block1_preact_relu[0][0]   \n__________________________________________________________________________________________________\nconv3_block1_1_bn (BatchNormali (None, 15, 50, 128)  512         conv3_block1_1_conv[0][0]        \n__________________________________________________________________________________________________\nconv3_block1_1_relu (Activation (None, 15, 50, 128)  0           conv3_block1_1_bn[0][0]          \n__________________________________________________________________________________________________\nconv3_block1_2_pad (ZeroPadding (None, 17, 52, 128)  0           conv3_block1_1_relu[0][0]        \n__________________________________________________________________________________________________\nconv3_block1_2_conv (Conv2D)    (None, 8, 25, 128)   147456      conv3_block1_2_pad[0][0]         \n__________________________________________________________________________________________________\nconv3_block1_2_bn (BatchNormali (None, 8, 25, 128)   512         conv3_block1_2_conv[0][0]        \n__________________________________________________________________________________________________\nconv3_block1_2_relu (Activation (None, 8, 25, 128)   0           conv3_block1_2_bn[0][0]          \n__________________________________________________________________________________________________\nconv3_block1_3_conv (Conv2D)    (None, 8, 25, 512)   66048       conv3_block1_2_relu[0][0]        \n__________________________________________________________________________________________________\nconv3_block1_0_conv (Conv2D)    (None, 8, 25, 512)   131584      conv2_block3_out[0][0]           \n__________________________________________________________________________________________________\ndropout_14 (Dropout)            (None, 8, 25, 512)   0           conv3_block1_3_conv[0][0]        \n__________________________________________________________________________________________________\nconv3_block1_out (Add)          (None, 8, 25, 512)   0           conv3_block1_0_conv[0][0]        \n                                                                 dropout_14[0][0]                 \n__________________________________________________________________________________________________\nconv3_block2_preact_bn (BatchNo (None, 8, 25, 512)   2048        conv3_block1_out[0][0]           \n__________________________________________________________________________________________________\nconv3_block2_preact_relu (Activ (None, 8, 25, 512)   0           conv3_block2_preact_bn[0][0]     \n__________________________________________________________________________________________________\nconv3_block2_1_conv (Conv2D)    (None, 8, 25, 128)   65536       conv3_block2_preact_relu[0][0]   \n__________________________________________________________________________________________________\nconv3_block2_1_bn (BatchNormali (None, 8, 25, 128)   512         conv3_block2_1_conv[0][0]        \n__________________________________________________________________________________________________\nconv3_block2_1_relu (Activation (None, 8, 25, 128)   0           conv3_block2_1_bn[0][0]          \n__________________________________________________________________________________________________\nconv3_block2_2_pad (ZeroPadding (None, 10, 27, 128)  0           conv3_block2_1_relu[0][0]        \n__________________________________________________________________________________________________\nconv3_block2_2_conv (Conv2D)    (None, 8, 25, 128)   147456      conv3_block2_2_pad[0][0]         \n__________________________________________________________________________________________________\nconv3_block2_2_bn (BatchNormali (None, 8, 25, 128)   512         conv3_block2_2_conv[0][0]        \n__________________________________________________________________________________________________\nconv3_block2_2_relu (Activation (None, 8, 25, 128)   0           conv3_block2_2_bn[0][0]          \n__________________________________________________________________________________________________\nconv3_block2_3_conv (Conv2D)    (None, 8, 25, 512)   66048       conv3_block2_2_relu[0][0]        \n__________________________________________________________________________________________________\ndropout_15 (Dropout)            (None, 8, 25, 512)   0           conv3_block2_3_conv[0][0]        \n__________________________________________________________________________________________________\nconv3_block2_out (Add)          (None, 8, 25, 512)   0           conv3_block1_out[0][0]           \n                                                                 dropout_15[0][0]                 \n__________________________________________________________________________________________________\nconv3_block3_preact_bn (BatchNo (None, 8, 25, 512)   2048        conv3_block2_out[0][0]           \n__________________________________________________________________________________________________\nconv3_block3_preact_relu (Activ (None, 8, 25, 512)   0           conv3_block3_preact_bn[0][0]     \n__________________________________________________________________________________________________\nconv3_block3_1_conv (Conv2D)    (None, 8, 25, 128)   65536       conv3_block3_preact_relu[0][0]   \n__________________________________________________________________________________________________\nconv3_block3_1_bn (BatchNormali (None, 8, 25, 128)   512         conv3_block3_1_conv[0][0]        \n__________________________________________________________________________________________________\nconv3_block3_1_relu (Activation (None, 8, 25, 128)   0           conv3_block3_1_bn[0][0]          \n__________________________________________________________________________________________________\nconv3_block3_2_pad (ZeroPadding (None, 10, 27, 128)  0           conv3_block3_1_relu[0][0]        \n__________________________________________________________________________________________________\nconv3_block3_2_conv (Conv2D)    (None, 8, 25, 128)   147456      conv3_block3_2_pad[0][0]         \n__________________________________________________________________________________________________\nconv3_block3_2_bn (BatchNormali (None, 8, 25, 128)   512         conv3_block3_2_conv[0][0]        \n__________________________________________________________________________________________________\nconv3_block3_2_relu (Activation (None, 8, 25, 128)   0           conv3_block3_2_bn[0][0]          \n__________________________________________________________________________________________________\nconv3_block3_3_conv (Conv2D)    (None, 8, 25, 512)   66048       conv3_block3_2_relu[0][0]        \n__________________________________________________________________________________________________\ndropout_16 (Dropout)            (None, 8, 25, 512)   0           conv3_block3_3_conv[0][0]        \n__________________________________________________________________________________________________\nconv3_block3_out (Add)          (None, 8, 25, 512)   0           conv3_block2_out[0][0]           \n                                                                 dropout_16[0][0]                 \n__________________________________________________________________________________________________\nconv3_block4_preact_bn (BatchNo (None, 8, 25, 512)   2048        conv3_block3_out[0][0]           \n__________________________________________________________________________________________________\nconv3_block4_preact_relu (Activ (None, 8, 25, 512)   0           conv3_block4_preact_bn[0][0]     \n__________________________________________________________________________________________________\nconv3_block4_1_conv (Conv2D)    (None, 8, 25, 128)   65536       conv3_block4_preact_relu[0][0]   \n__________________________________________________________________________________________________\nconv3_block4_1_bn (BatchNormali (None, 8, 25, 128)   512         conv3_block4_1_conv[0][0]        \n__________________________________________________________________________________________________\nconv3_block4_1_relu (Activation (None, 8, 25, 128)   0           conv3_block4_1_bn[0][0]          \n__________________________________________________________________________________________________\nconv3_block4_2_pad (ZeroPadding (None, 10, 27, 128)  0           conv3_block4_1_relu[0][0]        \n__________________________________________________________________________________________________\nconv3_block4_2_conv (Conv2D)    (None, 8, 25, 128)   147456      conv3_block4_2_pad[0][0]         \n__________________________________________________________________________________________________\nconv3_block4_2_bn (BatchNormali (None, 8, 25, 128)   512         conv3_block4_2_conv[0][0]        \n__________________________________________________________________________________________________\nconv3_block4_2_relu (Activation (None, 8, 25, 128)   0           conv3_block4_2_bn[0][0]          \n__________________________________________________________________________________________________\nconv3_block4_3_conv (Conv2D)    (None, 8, 25, 512)   66048       conv3_block4_2_relu[0][0]        \n__________________________________________________________________________________________________\ndropout_17 (Dropout)            (None, 8, 25, 512)   0           conv3_block4_3_conv[0][0]        \n__________________________________________________________________________________________________\nconv3_block4_out (Add)          (None, 8, 25, 512)   0           conv3_block3_out[0][0]           \n                                                                 dropout_17[0][0]                 \n__________________________________________________________________________________________________\nconv4_block1_preact_bn (BatchNo (None, 8, 25, 512)   2048        conv3_block4_out[0][0]           \n__________________________________________________________________________________________________\nconv4_block1_preact_relu (Activ (None, 8, 25, 512)   0           conv4_block1_preact_bn[0][0]     \n__________________________________________________________________________________________________\nconv4_block1_1_conv (Conv2D)    (None, 8, 25, 256)   131072      conv4_block1_preact_relu[0][0]   \n__________________________________________________________________________________________________\nconv4_block1_1_bn (BatchNormali (None, 8, 25, 256)   1024        conv4_block1_1_conv[0][0]        \n__________________________________________________________________________________________________\nconv4_block1_1_relu (Activation (None, 8, 25, 256)   0           conv4_block1_1_bn[0][0]          \n__________________________________________________________________________________________________\nconv4_block1_2_pad (ZeroPadding (None, 10, 27, 256)  0           conv4_block1_1_relu[0][0]        \n__________________________________________________________________________________________________\nconv4_block1_2_conv (Conv2D)    (None, 4, 13, 256)   589824      conv4_block1_2_pad[0][0]         \n__________________________________________________________________________________________________\nconv4_block1_2_bn (BatchNormali (None, 4, 13, 256)   1024        conv4_block1_2_conv[0][0]        \n__________________________________________________________________________________________________\nconv4_block1_2_relu (Activation (None, 4, 13, 256)   0           conv4_block1_2_bn[0][0]          \n__________________________________________________________________________________________________\nconv4_block1_3_conv (Conv2D)    (None, 4, 13, 1024)  263168      conv4_block1_2_relu[0][0]        \n__________________________________________________________________________________________________\nconv4_block1_0_conv (Conv2D)    (None, 4, 13, 1024)  525312      conv3_block4_out[0][0]           \n__________________________________________________________________________________________________\ndropout_18 (Dropout)            (None, 4, 13, 1024)  0           conv4_block1_3_conv[0][0]        \n__________________________________________________________________________________________________\nconv4_block1_out (Add)          (None, 4, 13, 1024)  0           conv4_block1_0_conv[0][0]        \n                                                                 dropout_18[0][0]                 \n__________________________________________________________________________________________________\nconv4_block2_preact_bn (BatchNo (None, 4, 13, 1024)  4096        conv4_block1_out[0][0]           \n__________________________________________________________________________________________________\nconv4_block2_preact_relu (Activ (None, 4, 13, 1024)  0           conv4_block2_preact_bn[0][0]     \n__________________________________________________________________________________________________\nconv4_block2_1_conv (Conv2D)    (None, 4, 13, 256)   262144      conv4_block2_preact_relu[0][0]   \n__________________________________________________________________________________________________\nconv4_block2_1_bn (BatchNormali (None, 4, 13, 256)   1024        conv4_block2_1_conv[0][0]        \n__________________________________________________________________________________________________\nconv4_block2_1_relu (Activation (None, 4, 13, 256)   0           conv4_block2_1_bn[0][0]          \n__________________________________________________________________________________________________\nconv4_block2_2_pad (ZeroPadding (None, 6, 15, 256)   0           conv4_block2_1_relu[0][0]        \n__________________________________________________________________________________________________\nconv4_block2_2_conv (Conv2D)    (None, 4, 13, 256)   589824      conv4_block2_2_pad[0][0]         \n__________________________________________________________________________________________________\nconv4_block2_2_bn (BatchNormali (None, 4, 13, 256)   1024        conv4_block2_2_conv[0][0]        \n__________________________________________________________________________________________________\nconv4_block2_2_relu (Activation (None, 4, 13, 256)   0           conv4_block2_2_bn[0][0]          \n__________________________________________________________________________________________________\nconv4_block2_3_conv (Conv2D)    (None, 4, 13, 1024)  263168      conv4_block2_2_relu[0][0]        \n__________________________________________________________________________________________________\ndropout_19 (Dropout)            (None, 4, 13, 1024)  0           conv4_block2_3_conv[0][0]        \n__________________________________________________________________________________________________\nconv4_block2_out (Add)          (None, 4, 13, 1024)  0           conv4_block1_out[0][0]           \n                                                                 dropout_19[0][0]                 \n__________________________________________________________________________________________________\nconv4_block3_preact_bn (BatchNo (None, 4, 13, 1024)  4096        conv4_block2_out[0][0]           \n__________________________________________________________________________________________________\nconv4_block3_preact_relu (Activ (None, 4, 13, 1024)  0           conv4_block3_preact_bn[0][0]     \n__________________________________________________________________________________________________\nconv4_block3_1_conv (Conv2D)    (None, 4, 13, 256)   262144      conv4_block3_preact_relu[0][0]   \n__________________________________________________________________________________________________\nconv4_block3_1_bn (BatchNormali (None, 4, 13, 256)   1024        conv4_block3_1_conv[0][0]        \n__________________________________________________________________________________________________\nconv4_block3_1_relu (Activation (None, 4, 13, 256)   0           conv4_block3_1_bn[0][0]          \n__________________________________________________________________________________________________\nconv4_block3_2_pad (ZeroPadding (None, 6, 15, 256)   0           conv4_block3_1_relu[0][0]        \n__________________________________________________________________________________________________\nconv4_block3_2_conv (Conv2D)    (None, 4, 13, 256)   589824      conv4_block3_2_pad[0][0]         \n__________________________________________________________________________________________________\nconv4_block3_2_bn (BatchNormali (None, 4, 13, 256)   1024        conv4_block3_2_conv[0][0]        \n__________________________________________________________________________________________________\nconv4_block3_2_relu (Activation (None, 4, 13, 256)   0           conv4_block3_2_bn[0][0]          \n__________________________________________________________________________________________________\nconv4_block3_3_conv (Conv2D)    (None, 4, 13, 1024)  263168      conv4_block3_2_relu[0][0]        \n__________________________________________________________________________________________________\ndropout_20 (Dropout)            (None, 4, 13, 1024)  0           conv4_block3_3_conv[0][0]        \n__________________________________________________________________________________________________\nconv4_block3_out (Add)          (None, 4, 13, 1024)  0           conv4_block2_out[0][0]           \n                                                                 dropout_20[0][0]                 \n__________________________________________________________________________________________________\npost_bn (BatchNormalization)    (None, 4, 13, 1024)  4096        conv4_block3_out[0][0]           \n__________________________________________________________________________________________________\npost_relu (Activation)          (None, 4, 13, 1024)  0           post_bn[0][0]                    \n__________________________________________________________________________________________________\navg_pool (GlobalAveragePooling2 (None, 1024)         0           post_relu[0][0]                  \n__________________________________________________________________________________________________\nrepeat_vector_1 (RepeatVector)  (None, 6, 1024)      0           avg_pool[0][0]                   \n__________________________________________________________________________________________________\ngru_2 (GRU)                     (None, 6, 128)       443136      repeat_vector_1[0][0]            \n__________________________________________________________________________________________________\ngru_3 (GRU)                     (None, 6, 128)       99072       gru_2[0][0]                      \n__________________________________________________________________________________________________\ndigit1 (Dense)                  (None, 6, 36)        4644        gru_3[0][0]                      \n==================================================================================================\nTotal params: 5,741,604\nTrainable params: 5,723,876\nNon-trainable params: 17,728\n__________________________________________________________________________________________________\n"
    }
   ],
   "source": [
    "mymodel.summary()"
   ]
  },
  {
   "cell_type": "code",
   "execution_count": 14,
   "metadata": {},
   "outputs": [],
   "source": [
    "img , lb= prepData01()"
   ]
  },
  {
   "cell_type": "code",
   "execution_count": 15,
   "metadata": {},
   "outputs": [],
   "source": [
    "lb = tf.concat([tf.expand_dims(lbs,1) for lbs in lb],1)"
   ]
  },
  {
   "cell_type": "code",
   "execution_count": 27,
   "metadata": {},
   "outputs": [],
   "source": [
    "def trainModel(model,img_train,lb_train,callB):\n",
    "  history = model.fit(\n",
    "        img_train,\n",
    "        lb_train,\n",
    "        batch_size = 32,\n",
    "        shuffle = True,\n",
    "        validation_split=0.1,\n",
    "        use_multiprocessing=True,\n",
    "        epochs=100,\n",
    "        verbose=1,\n",
    "        callbacks = callB\n",
    "        )"
   ]
  },
  {
   "cell_type": "code",
   "execution_count": 22,
   "metadata": {},
   "outputs": [],
   "source": [
    "config = {\n",
    "    \"stack\" : \"32+ 64,128,256 3,4,3blocks\",\n",
    "    \"weight_regu\" : 0.0001,\n",
    "    \"dropout\" : 0.3,\n",
    "    \"preact\" : True,\n",
    "    \"name\" : \"ResNet_RNN\",\n",
    "    \"output_WR\" : 1,\n",
    "    \"total_params\" : 5741604\n",
    "}"
   ]
  },
  {
   "cell_type": "code",
   "execution_count": 23,
   "metadata": {},
   "outputs": [
    {
     "output_type": "display_data",
     "data": {
      "text/plain": "<IPython.core.display.HTML object>",
      "text/html": "\n                Logging results to <a href=\"https://wandb.com\" target=\"_blank\">Weights & Biases</a> <a href=\"https://docs.wandb.com/integrations/jupyter.html\" target=\"_blank\">(Documentation)</a>.<br/>\n                Project page: <a href=\"https://app.wandb.ai/tingww/my-project-2\" target=\"_blank\">https://app.wandb.ai/tingww/my-project-2</a><br/>\n                Run page: <a href=\"https://app.wandb.ai/tingww/my-project-2/runs/39shh7kx\" target=\"_blank\">https://app.wandb.ai/tingww/my-project-2/runs/39shh7kx</a><br/>\n            "
     },
     "metadata": {}
    },
    {
     "output_type": "stream",
     "name": "stderr",
     "text": "Failed to query for notebook name, you can set it manually with the WANDB_NOTEBOOK_NAME environment variable\n"
    },
    {
     "output_type": "execute_result",
     "data": {
      "text/plain": "W&B Run: https://app.wandb.ai/tingww/my-project-2/runs/39shh7kx"
     },
     "metadata": {},
     "execution_count": 23
    },
    {
     "output_type": "stream",
     "name": "stderr",
     "text": "Run pip install nbformat to save notebook history\n"
    }
   ],
   "source": [
    "wandb.init(project=\"my-project-2\",reinit=True,name=config[\"name\"], config=config)"
   ]
  },
  {
   "cell_type": "code",
   "execution_count": 29,
   "metadata": {},
   "outputs": [
    {
     "output_type": "stream",
     "name": "stdout",
     "text": "Epoch 1/100\nFailed to query for notebook name, you can set it manually with the WANDB_NOTEBOOK_NAME environment variable\n  2/282 [..............................] - ETA: 17s - loss: 5.7794 - accuracy: 0.0208WARNING:tensorflow:Method (on_train_batch_end) is slow compared to the batch update (1.552865). Check your callbacks.\n282/282 [==============================] - ETA: 0s - loss: 4.1005 - accuracy: 0.0273\nEpoch 00001: val_loss improved from inf to 3.65198, saving model to h5s/ResNet_RNN.hdf5\n282/282 [==============================] - 40s 141ms/step - loss: 4.1005 - accuracy: 0.0273 - val_loss: 3.6520 - val_accuracy: 0.0273\nEpoch 2/100\n281/282 [============================>.] - ETA: 0s - loss: 3.6119 - accuracy: 0.0269\nEpoch 00002: val_loss improved from 3.65198 to 3.60293, saving model to h5s/ResNet_RNN.hdf5\n282/282 [==============================] - 38s 133ms/step - loss: 3.6119 - accuracy: 0.0270 - val_loss: 3.6029 - val_accuracy: 0.0292\nEpoch 3/100\n281/282 [============================>.] - ETA: 0s - loss: 3.5926 - accuracy: 0.0280\nEpoch 00003: val_loss improved from 3.60293 to 3.59954, saving model to h5s/ResNet_RNN.hdf5\n282/282 [==============================] - 38s 134ms/step - loss: 3.5926 - accuracy: 0.0280 - val_loss: 3.5995 - val_accuracy: 0.0258\nEpoch 4/100\n281/282 [============================>.] - ETA: 0s - loss: 3.5899 - accuracy: 0.0282\nEpoch 00004: val_loss improved from 3.59954 to 3.59203, saving model to h5s/ResNet_RNN.hdf5\n282/282 [==============================] - 38s 133ms/step - loss: 3.5899 - accuracy: 0.0282 - val_loss: 3.5920 - val_accuracy: 0.0267\nEpoch 5/100\n181/282 [==================>...........] - ETA: 12s - loss: 3.5934 - accuracy: 0.0286"
    },
    {
     "output_type": "error",
     "ename": "KeyboardInterrupt",
     "evalue": "",
     "traceback": [
      "\u001b[1;31m---------------------------------------------------------------------------\u001b[0m",
      "\u001b[1;31mKeyboardInterrupt\u001b[0m                         Traceback (most recent call last)",
      "\u001b[1;32m<ipython-input-29-f66b93708e68>\u001b[0m in \u001b[0;36m<module>\u001b[1;34m\u001b[0m\n\u001b[0;32m      1\u001b[0m \u001b[0mfilepath\u001b[0m \u001b[1;33m=\u001b[0m \u001b[1;34m\"h5s/\"\u001b[0m\u001b[1;33m\u001b[0m\u001b[1;33m\u001b[0m\u001b[0m\n\u001b[0;32m      2\u001b[0m \u001b[0mcheckpoint\u001b[0m \u001b[1;33m=\u001b[0m \u001b[0mtf\u001b[0m\u001b[1;33m.\u001b[0m\u001b[0mkeras\u001b[0m\u001b[1;33m.\u001b[0m\u001b[0mcallbacks\u001b[0m\u001b[1;33m.\u001b[0m\u001b[0mModelCheckpoint\u001b[0m\u001b[1;33m(\u001b[0m\u001b[0mfilepath\u001b[0m\u001b[1;33m+\u001b[0m\u001b[0mconfig\u001b[0m\u001b[1;33m[\u001b[0m\u001b[1;34m\"name\"\u001b[0m\u001b[1;33m]\u001b[0m\u001b[1;33m+\u001b[0m\u001b[1;34m\".hdf5\"\u001b[0m\u001b[1;33m,\u001b[0m \u001b[0mmonitor\u001b[0m\u001b[1;33m=\u001b[0m\u001b[1;34m'val_loss'\u001b[0m\u001b[1;33m,\u001b[0m \u001b[0mverbose\u001b[0m\u001b[1;33m=\u001b[0m\u001b[1;36m1\u001b[0m\u001b[1;33m,\u001b[0m \u001b[0msave_best_only\u001b[0m\u001b[1;33m=\u001b[0m\u001b[1;32mTrue\u001b[0m\u001b[1;33m,\u001b[0m\u001b[0mmode\u001b[0m\u001b[1;33m=\u001b[0m\u001b[1;34m'min'\u001b[0m\u001b[1;33m)\u001b[0m\u001b[1;33m\u001b[0m\u001b[1;33m\u001b[0m\u001b[0m\n\u001b[1;32m----> 3\u001b[1;33m \u001b[0mtrainModel\u001b[0m\u001b[1;33m(\u001b[0m\u001b[0mmymodel\u001b[0m\u001b[1;33m,\u001b[0m\u001b[0mimg\u001b[0m\u001b[1;33m,\u001b[0m\u001b[0mlb\u001b[0m\u001b[1;33m,\u001b[0m\u001b[1;33m[\u001b[0m\u001b[0mcheckpoint\u001b[0m\u001b[1;33m,\u001b[0m \u001b[0mwandb\u001b[0m\u001b[1;33m.\u001b[0m\u001b[0mkeras\u001b[0m\u001b[1;33m.\u001b[0m\u001b[0mWandbCallback\u001b[0m\u001b[1;33m(\u001b[0m\u001b[1;33m)\u001b[0m\u001b[1;33m]\u001b[0m\u001b[1;33m)\u001b[0m\u001b[1;33m\u001b[0m\u001b[1;33m\u001b[0m\u001b[0m\n\u001b[0m",
      "\u001b[1;32m<ipython-input-27-564861165fd5>\u001b[0m in \u001b[0;36mtrainModel\u001b[1;34m(model, img_train, lb_train, callB)\u001b[0m\n\u001b[0;32m      9\u001b[0m         \u001b[0mepochs\u001b[0m\u001b[1;33m=\u001b[0m\u001b[1;36m100\u001b[0m\u001b[1;33m,\u001b[0m\u001b[1;33m\u001b[0m\u001b[1;33m\u001b[0m\u001b[0m\n\u001b[0;32m     10\u001b[0m         \u001b[0mverbose\u001b[0m\u001b[1;33m=\u001b[0m\u001b[1;36m1\u001b[0m\u001b[1;33m,\u001b[0m\u001b[1;33m\u001b[0m\u001b[1;33m\u001b[0m\u001b[0m\n\u001b[1;32m---> 11\u001b[1;33m         \u001b[0mcallbacks\u001b[0m \u001b[1;33m=\u001b[0m \u001b[0mcallB\u001b[0m\u001b[1;33m\u001b[0m\u001b[1;33m\u001b[0m\u001b[0m\n\u001b[0m\u001b[0;32m     12\u001b[0m         )\n",
      "\u001b[1;32mC:\\Users\\tingw\\Anaconda3\\envs\\myenv\\lib\\site-packages\\wandb\\keras\\__init__.py\u001b[0m in \u001b[0;36mnew_v2\u001b[1;34m(*args, **kwargs)\u001b[0m\n\u001b[0;32m    118\u001b[0m             \u001b[1;32mfor\u001b[0m \u001b[0mcbk\u001b[0m \u001b[1;32min\u001b[0m \u001b[0mcbks\u001b[0m\u001b[1;33m:\u001b[0m\u001b[1;33m\u001b[0m\u001b[1;33m\u001b[0m\u001b[0m\n\u001b[0;32m    119\u001b[0m                 \u001b[0mset_wandb_attrs\u001b[0m\u001b[1;33m(\u001b[0m\u001b[0mcbk\u001b[0m\u001b[1;33m,\u001b[0m \u001b[0mval_data\u001b[0m\u001b[1;33m)\u001b[0m\u001b[1;33m\u001b[0m\u001b[1;33m\u001b[0m\u001b[0m\n\u001b[1;32m--> 120\u001b[1;33m         \u001b[1;32mreturn\u001b[0m \u001b[0mold_v2\u001b[0m\u001b[1;33m(\u001b[0m\u001b[1;33m*\u001b[0m\u001b[0margs\u001b[0m\u001b[1;33m,\u001b[0m \u001b[1;33m**\u001b[0m\u001b[0mkwargs\u001b[0m\u001b[1;33m)\u001b[0m\u001b[1;33m\u001b[0m\u001b[1;33m\u001b[0m\u001b[0m\n\u001b[0m\u001b[0;32m    121\u001b[0m \u001b[1;33m\u001b[0m\u001b[0m\n\u001b[0;32m    122\u001b[0m     \u001b[0mtraining_arrays\u001b[0m\u001b[1;33m.\u001b[0m\u001b[0morig_fit_loop\u001b[0m \u001b[1;33m=\u001b[0m \u001b[0mold_arrays\u001b[0m\u001b[1;33m\u001b[0m\u001b[1;33m\u001b[0m\u001b[0m\n",
      "\u001b[1;32mC:\\Users\\tingw\\Anaconda3\\envs\\myenv\\lib\\site-packages\\tensorflow\\python\\keras\\engine\\training.py\u001b[0m in \u001b[0;36m_method_wrapper\u001b[1;34m(self, *args, **kwargs)\u001b[0m\n\u001b[0;32m     64\u001b[0m   \u001b[1;32mdef\u001b[0m \u001b[0m_method_wrapper\u001b[0m\u001b[1;33m(\u001b[0m\u001b[0mself\u001b[0m\u001b[1;33m,\u001b[0m \u001b[1;33m*\u001b[0m\u001b[0margs\u001b[0m\u001b[1;33m,\u001b[0m \u001b[1;33m**\u001b[0m\u001b[0mkwargs\u001b[0m\u001b[1;33m)\u001b[0m\u001b[1;33m:\u001b[0m\u001b[1;33m\u001b[0m\u001b[1;33m\u001b[0m\u001b[0m\n\u001b[0;32m     65\u001b[0m     \u001b[1;32mif\u001b[0m \u001b[1;32mnot\u001b[0m \u001b[0mself\u001b[0m\u001b[1;33m.\u001b[0m\u001b[0m_in_multi_worker_mode\u001b[0m\u001b[1;33m(\u001b[0m\u001b[1;33m)\u001b[0m\u001b[1;33m:\u001b[0m  \u001b[1;31m# pylint: disable=protected-access\u001b[0m\u001b[1;33m\u001b[0m\u001b[1;33m\u001b[0m\u001b[0m\n\u001b[1;32m---> 66\u001b[1;33m       \u001b[1;32mreturn\u001b[0m \u001b[0mmethod\u001b[0m\u001b[1;33m(\u001b[0m\u001b[0mself\u001b[0m\u001b[1;33m,\u001b[0m \u001b[1;33m*\u001b[0m\u001b[0margs\u001b[0m\u001b[1;33m,\u001b[0m \u001b[1;33m**\u001b[0m\u001b[0mkwargs\u001b[0m\u001b[1;33m)\u001b[0m\u001b[1;33m\u001b[0m\u001b[1;33m\u001b[0m\u001b[0m\n\u001b[0m\u001b[0;32m     67\u001b[0m \u001b[1;33m\u001b[0m\u001b[0m\n\u001b[0;32m     68\u001b[0m     \u001b[1;31m# Running inside `run_distribute_coordinator` already.\u001b[0m\u001b[1;33m\u001b[0m\u001b[1;33m\u001b[0m\u001b[1;33m\u001b[0m\u001b[0m\n",
      "\u001b[1;32mC:\\Users\\tingw\\Anaconda3\\envs\\myenv\\lib\\site-packages\\tensorflow\\python\\keras\\engine\\training.py\u001b[0m in \u001b[0;36mfit\u001b[1;34m(self, x, y, batch_size, epochs, verbose, callbacks, validation_split, validation_data, shuffle, class_weight, sample_weight, initial_epoch, steps_per_epoch, validation_steps, validation_batch_size, validation_freq, max_queue_size, workers, use_multiprocessing)\u001b[0m\n\u001b[0;32m    853\u001b[0m                 \u001b[0mcontext\u001b[0m\u001b[1;33m.\u001b[0m\u001b[0masync_wait\u001b[0m\u001b[1;33m(\u001b[0m\u001b[1;33m)\u001b[0m\u001b[1;33m\u001b[0m\u001b[1;33m\u001b[0m\u001b[0m\n\u001b[0;32m    854\u001b[0m               \u001b[0mlogs\u001b[0m \u001b[1;33m=\u001b[0m \u001b[0mtmp_logs\u001b[0m  \u001b[1;31m# No error, now safe to assign to logs.\u001b[0m\u001b[1;33m\u001b[0m\u001b[1;33m\u001b[0m\u001b[0m\n\u001b[1;32m--> 855\u001b[1;33m               \u001b[0mcallbacks\u001b[0m\u001b[1;33m.\u001b[0m\u001b[0mon_train_batch_end\u001b[0m\u001b[1;33m(\u001b[0m\u001b[0mstep\u001b[0m\u001b[1;33m,\u001b[0m \u001b[0mlogs\u001b[0m\u001b[1;33m)\u001b[0m\u001b[1;33m\u001b[0m\u001b[1;33m\u001b[0m\u001b[0m\n\u001b[0m\u001b[0;32m    856\u001b[0m         \u001b[0mepoch_logs\u001b[0m \u001b[1;33m=\u001b[0m \u001b[0mcopy\u001b[0m\u001b[1;33m.\u001b[0m\u001b[0mcopy\u001b[0m\u001b[1;33m(\u001b[0m\u001b[0mlogs\u001b[0m\u001b[1;33m)\u001b[0m\u001b[1;33m\u001b[0m\u001b[1;33m\u001b[0m\u001b[0m\n\u001b[0;32m    857\u001b[0m \u001b[1;33m\u001b[0m\u001b[0m\n",
      "\u001b[1;32mC:\\Users\\tingw\\Anaconda3\\envs\\myenv\\lib\\site-packages\\tensorflow\\python\\keras\\callbacks.py\u001b[0m in \u001b[0;36mon_train_batch_end\u001b[1;34m(self, batch, logs)\u001b[0m\n\u001b[0;32m    387\u001b[0m     \"\"\"\n\u001b[0;32m    388\u001b[0m     \u001b[1;32mif\u001b[0m \u001b[0mself\u001b[0m\u001b[1;33m.\u001b[0m\u001b[0m_should_call_train_batch_hooks\u001b[0m\u001b[1;33m:\u001b[0m\u001b[1;33m\u001b[0m\u001b[1;33m\u001b[0m\u001b[0m\n\u001b[1;32m--> 389\u001b[1;33m       \u001b[0mlogs\u001b[0m \u001b[1;33m=\u001b[0m \u001b[0mself\u001b[0m\u001b[1;33m.\u001b[0m\u001b[0m_process_logs\u001b[0m\u001b[1;33m(\u001b[0m\u001b[0mlogs\u001b[0m\u001b[1;33m)\u001b[0m\u001b[1;33m\u001b[0m\u001b[1;33m\u001b[0m\u001b[0m\n\u001b[0m\u001b[0;32m    390\u001b[0m       \u001b[0mself\u001b[0m\u001b[1;33m.\u001b[0m\u001b[0m_call_batch_hook\u001b[0m\u001b[1;33m(\u001b[0m\u001b[0mModeKeys\u001b[0m\u001b[1;33m.\u001b[0m\u001b[0mTRAIN\u001b[0m\u001b[1;33m,\u001b[0m \u001b[1;34m'end'\u001b[0m\u001b[1;33m,\u001b[0m \u001b[0mbatch\u001b[0m\u001b[1;33m,\u001b[0m \u001b[0mlogs\u001b[0m\u001b[1;33m=\u001b[0m\u001b[0mlogs\u001b[0m\u001b[1;33m)\u001b[0m\u001b[1;33m\u001b[0m\u001b[1;33m\u001b[0m\u001b[0m\n\u001b[0;32m    391\u001b[0m \u001b[1;33m\u001b[0m\u001b[0m\n",
      "\u001b[1;32mC:\\Users\\tingw\\Anaconda3\\envs\\myenv\\lib\\site-packages\\tensorflow\\python\\keras\\callbacks.py\u001b[0m in \u001b[0;36m_process_logs\u001b[1;34m(self, logs)\u001b[0m\n\u001b[0;32m    263\u001b[0m     \u001b[1;34m\"\"\"Turns tensors into numpy arrays or Python scalars.\"\"\"\u001b[0m\u001b[1;33m\u001b[0m\u001b[1;33m\u001b[0m\u001b[0m\n\u001b[0;32m    264\u001b[0m     \u001b[1;32mif\u001b[0m \u001b[0mlogs\u001b[0m\u001b[1;33m:\u001b[0m\u001b[1;33m\u001b[0m\u001b[1;33m\u001b[0m\u001b[0m\n\u001b[1;32m--> 265\u001b[1;33m       \u001b[1;32mreturn\u001b[0m \u001b[0mtf_utils\u001b[0m\u001b[1;33m.\u001b[0m\u001b[0mto_numpy_or_python_type\u001b[0m\u001b[1;33m(\u001b[0m\u001b[0mlogs\u001b[0m\u001b[1;33m)\u001b[0m\u001b[1;33m\u001b[0m\u001b[1;33m\u001b[0m\u001b[0m\n\u001b[0m\u001b[0;32m    266\u001b[0m     \u001b[1;32mreturn\u001b[0m \u001b[1;33m{\u001b[0m\u001b[1;33m}\u001b[0m\u001b[1;33m\u001b[0m\u001b[1;33m\u001b[0m\u001b[0m\n\u001b[0;32m    267\u001b[0m \u001b[1;33m\u001b[0m\u001b[0m\n",
      "\u001b[1;32mC:\\Users\\tingw\\Anaconda3\\envs\\myenv\\lib\\site-packages\\tensorflow\\python\\keras\\utils\\tf_utils.py\u001b[0m in \u001b[0;36mto_numpy_or_python_type\u001b[1;34m(tensors)\u001b[0m\n\u001b[0;32m    521\u001b[0m     \u001b[1;32mreturn\u001b[0m \u001b[0mt\u001b[0m  \u001b[1;31m# Don't turn ragged or sparse tensors to NumPy.\u001b[0m\u001b[1;33m\u001b[0m\u001b[1;33m\u001b[0m\u001b[0m\n\u001b[0;32m    522\u001b[0m \u001b[1;33m\u001b[0m\u001b[0m\n\u001b[1;32m--> 523\u001b[1;33m   \u001b[1;32mreturn\u001b[0m \u001b[0mnest\u001b[0m\u001b[1;33m.\u001b[0m\u001b[0mmap_structure\u001b[0m\u001b[1;33m(\u001b[0m\u001b[0m_to_single_numpy_or_python_type\u001b[0m\u001b[1;33m,\u001b[0m \u001b[0mtensors\u001b[0m\u001b[1;33m)\u001b[0m\u001b[1;33m\u001b[0m\u001b[1;33m\u001b[0m\u001b[0m\n\u001b[0m\u001b[0;32m    524\u001b[0m \u001b[1;33m\u001b[0m\u001b[0m\n",
      "\u001b[1;32mC:\\Users\\tingw\\Anaconda3\\envs\\myenv\\lib\\site-packages\\tensorflow\\python\\util\\nest.py\u001b[0m in \u001b[0;36mmap_structure\u001b[1;34m(func, *structure, **kwargs)\u001b[0m\n\u001b[0;32m    615\u001b[0m \u001b[1;33m\u001b[0m\u001b[0m\n\u001b[0;32m    616\u001b[0m   return pack_sequence_as(\n\u001b[1;32m--> 617\u001b[1;33m       \u001b[0mstructure\u001b[0m\u001b[1;33m[\u001b[0m\u001b[1;36m0\u001b[0m\u001b[1;33m]\u001b[0m\u001b[1;33m,\u001b[0m \u001b[1;33m[\u001b[0m\u001b[0mfunc\u001b[0m\u001b[1;33m(\u001b[0m\u001b[1;33m*\u001b[0m\u001b[0mx\u001b[0m\u001b[1;33m)\u001b[0m \u001b[1;32mfor\u001b[0m \u001b[0mx\u001b[0m \u001b[1;32min\u001b[0m \u001b[0mentries\u001b[0m\u001b[1;33m]\u001b[0m\u001b[1;33m,\u001b[0m\u001b[1;33m\u001b[0m\u001b[1;33m\u001b[0m\u001b[0m\n\u001b[0m\u001b[0;32m    618\u001b[0m       expand_composites=expand_composites)\n\u001b[0;32m    619\u001b[0m \u001b[1;33m\u001b[0m\u001b[0m\n",
      "\u001b[1;32mC:\\Users\\tingw\\Anaconda3\\envs\\myenv\\lib\\site-packages\\tensorflow\\python\\util\\nest.py\u001b[0m in \u001b[0;36m<listcomp>\u001b[1;34m(.0)\u001b[0m\n\u001b[0;32m    615\u001b[0m \u001b[1;33m\u001b[0m\u001b[0m\n\u001b[0;32m    616\u001b[0m   return pack_sequence_as(\n\u001b[1;32m--> 617\u001b[1;33m       \u001b[0mstructure\u001b[0m\u001b[1;33m[\u001b[0m\u001b[1;36m0\u001b[0m\u001b[1;33m]\u001b[0m\u001b[1;33m,\u001b[0m \u001b[1;33m[\u001b[0m\u001b[0mfunc\u001b[0m\u001b[1;33m(\u001b[0m\u001b[1;33m*\u001b[0m\u001b[0mx\u001b[0m\u001b[1;33m)\u001b[0m \u001b[1;32mfor\u001b[0m \u001b[0mx\u001b[0m \u001b[1;32min\u001b[0m \u001b[0mentries\u001b[0m\u001b[1;33m]\u001b[0m\u001b[1;33m,\u001b[0m\u001b[1;33m\u001b[0m\u001b[1;33m\u001b[0m\u001b[0m\n\u001b[0m\u001b[0;32m    618\u001b[0m       expand_composites=expand_composites)\n\u001b[0;32m    619\u001b[0m \u001b[1;33m\u001b[0m\u001b[0m\n",
      "\u001b[1;32mC:\\Users\\tingw\\Anaconda3\\envs\\myenv\\lib\\site-packages\\tensorflow\\python\\keras\\utils\\tf_utils.py\u001b[0m in \u001b[0;36m_to_single_numpy_or_python_type\u001b[1;34m(t)\u001b[0m\n\u001b[0;32m    517\u001b[0m   \u001b[1;32mdef\u001b[0m \u001b[0m_to_single_numpy_or_python_type\u001b[0m\u001b[1;33m(\u001b[0m\u001b[0mt\u001b[0m\u001b[1;33m)\u001b[0m\u001b[1;33m:\u001b[0m\u001b[1;33m\u001b[0m\u001b[1;33m\u001b[0m\u001b[0m\n\u001b[0;32m    518\u001b[0m     \u001b[1;32mif\u001b[0m \u001b[0misinstance\u001b[0m\u001b[1;33m(\u001b[0m\u001b[0mt\u001b[0m\u001b[1;33m,\u001b[0m \u001b[0mops\u001b[0m\u001b[1;33m.\u001b[0m\u001b[0mTensor\u001b[0m\u001b[1;33m)\u001b[0m\u001b[1;33m:\u001b[0m\u001b[1;33m\u001b[0m\u001b[1;33m\u001b[0m\u001b[0m\n\u001b[1;32m--> 519\u001b[1;33m       \u001b[0mx\u001b[0m \u001b[1;33m=\u001b[0m \u001b[0mt\u001b[0m\u001b[1;33m.\u001b[0m\u001b[0mnumpy\u001b[0m\u001b[1;33m(\u001b[0m\u001b[1;33m)\u001b[0m\u001b[1;33m\u001b[0m\u001b[1;33m\u001b[0m\u001b[0m\n\u001b[0m\u001b[0;32m    520\u001b[0m       \u001b[1;32mreturn\u001b[0m \u001b[0mx\u001b[0m\u001b[1;33m.\u001b[0m\u001b[0mitem\u001b[0m\u001b[1;33m(\u001b[0m\u001b[1;33m)\u001b[0m \u001b[1;32mif\u001b[0m \u001b[0mnp\u001b[0m\u001b[1;33m.\u001b[0m\u001b[0mndim\u001b[0m\u001b[1;33m(\u001b[0m\u001b[0mx\u001b[0m\u001b[1;33m)\u001b[0m \u001b[1;33m==\u001b[0m \u001b[1;36m0\u001b[0m \u001b[1;32melse\u001b[0m \u001b[0mx\u001b[0m\u001b[1;33m\u001b[0m\u001b[1;33m\u001b[0m\u001b[0m\n\u001b[0;32m    521\u001b[0m     \u001b[1;32mreturn\u001b[0m \u001b[0mt\u001b[0m  \u001b[1;31m# Don't turn ragged or sparse tensors to NumPy.\u001b[0m\u001b[1;33m\u001b[0m\u001b[1;33m\u001b[0m\u001b[0m\n",
      "\u001b[1;32mC:\\Users\\tingw\\Anaconda3\\envs\\myenv\\lib\\site-packages\\tensorflow\\python\\framework\\ops.py\u001b[0m in \u001b[0;36mnumpy\u001b[1;34m(self)\u001b[0m\n\u001b[0;32m    959\u001b[0m     \"\"\"\n\u001b[0;32m    960\u001b[0m     \u001b[1;31m# TODO(slebedev): Consider avoiding a copy for non-CPU or remote tensors.\u001b[0m\u001b[1;33m\u001b[0m\u001b[1;33m\u001b[0m\u001b[1;33m\u001b[0m\u001b[0m\n\u001b[1;32m--> 961\u001b[1;33m     \u001b[0mmaybe_arr\u001b[0m \u001b[1;33m=\u001b[0m \u001b[0mself\u001b[0m\u001b[1;33m.\u001b[0m\u001b[0m_numpy\u001b[0m\u001b[1;33m(\u001b[0m\u001b[1;33m)\u001b[0m  \u001b[1;31m# pylint: disable=protected-access\u001b[0m\u001b[1;33m\u001b[0m\u001b[1;33m\u001b[0m\u001b[0m\n\u001b[0m\u001b[0;32m    962\u001b[0m     \u001b[1;32mreturn\u001b[0m \u001b[0mmaybe_arr\u001b[0m\u001b[1;33m.\u001b[0m\u001b[0mcopy\u001b[0m\u001b[1;33m(\u001b[0m\u001b[1;33m)\u001b[0m \u001b[1;32mif\u001b[0m \u001b[0misinstance\u001b[0m\u001b[1;33m(\u001b[0m\u001b[0mmaybe_arr\u001b[0m\u001b[1;33m,\u001b[0m \u001b[0mnp\u001b[0m\u001b[1;33m.\u001b[0m\u001b[0mndarray\u001b[0m\u001b[1;33m)\u001b[0m \u001b[1;32melse\u001b[0m \u001b[0mmaybe_arr\u001b[0m\u001b[1;33m\u001b[0m\u001b[1;33m\u001b[0m\u001b[0m\n\u001b[0;32m    963\u001b[0m \u001b[1;33m\u001b[0m\u001b[0m\n",
      "\u001b[1;32mC:\\Users\\tingw\\Anaconda3\\envs\\myenv\\lib\\site-packages\\tensorflow\\python\\framework\\ops.py\u001b[0m in \u001b[0;36m_numpy\u001b[1;34m(self)\u001b[0m\n\u001b[0;32m    925\u001b[0m     \u001b[1;31m# pylint: disable=protected-access\u001b[0m\u001b[1;33m\u001b[0m\u001b[1;33m\u001b[0m\u001b[1;33m\u001b[0m\u001b[0m\n\u001b[0;32m    926\u001b[0m     \u001b[1;32mtry\u001b[0m\u001b[1;33m:\u001b[0m\u001b[1;33m\u001b[0m\u001b[1;33m\u001b[0m\u001b[0m\n\u001b[1;32m--> 927\u001b[1;33m       \u001b[1;32mreturn\u001b[0m \u001b[0mself\u001b[0m\u001b[1;33m.\u001b[0m\u001b[0m_numpy_internal\u001b[0m\u001b[1;33m(\u001b[0m\u001b[1;33m)\u001b[0m\u001b[1;33m\u001b[0m\u001b[1;33m\u001b[0m\u001b[0m\n\u001b[0m\u001b[0;32m    928\u001b[0m     \u001b[1;32mexcept\u001b[0m \u001b[0mcore\u001b[0m\u001b[1;33m.\u001b[0m\u001b[0m_NotOkStatusException\u001b[0m \u001b[1;32mas\u001b[0m \u001b[0me\u001b[0m\u001b[1;33m:\u001b[0m\u001b[1;33m\u001b[0m\u001b[1;33m\u001b[0m\u001b[0m\n\u001b[0;32m    929\u001b[0m       \u001b[0msix\u001b[0m\u001b[1;33m.\u001b[0m\u001b[0mraise_from\u001b[0m\u001b[1;33m(\u001b[0m\u001b[0mcore\u001b[0m\u001b[1;33m.\u001b[0m\u001b[0m_status_to_exception\u001b[0m\u001b[1;33m(\u001b[0m\u001b[0me\u001b[0m\u001b[1;33m.\u001b[0m\u001b[0mcode\u001b[0m\u001b[1;33m,\u001b[0m \u001b[0me\u001b[0m\u001b[1;33m.\u001b[0m\u001b[0mmessage\u001b[0m\u001b[1;33m)\u001b[0m\u001b[1;33m,\u001b[0m \u001b[1;32mNone\u001b[0m\u001b[1;33m)\u001b[0m\u001b[1;33m\u001b[0m\u001b[1;33m\u001b[0m\u001b[0m\n",
      "\u001b[1;31mKeyboardInterrupt\u001b[0m: "
     ]
    }
   ],
   "source": [
    "filepath = \"h5s/\"\n",
    "checkpoint = tf.keras.callbacks.ModelCheckpoint(filepath+config[\"name\"]+\".hdf5\", monitor='val_loss', verbose=1, save_best_only=True,mode='min')\n",
    "trainModel(mymodel,img,lb,[checkpoint, wandb.keras.WandbCallback()])"
   ]
  },
  {
   "cell_type": "code",
   "execution_count": 30,
   "metadata": {},
   "outputs": [],
   "source": [
    "mymodel.save(\"./h5s/DenseNet_no_train.h5\")"
   ]
  },
  {
   "cell_type": "code",
   "execution_count": null,
   "metadata": {},
   "outputs": [],
   "source": []
  }
 ],
 "metadata": {
  "language_info": {
   "codemirror_mode": {
    "name": "ipython",
    "version": 3
   },
   "file_extension": ".py",
   "mimetype": "text/x-python",
   "name": "python",
   "nbconvert_exporter": "python",
   "pygments_lexer": "ipython3",
   "version": "3.7.7-final"
  },
  "orig_nbformat": 2,
  "kernelspec": {
   "name": "python37764bitmyenvcondac89683127ca741bc84ed6db3ffcad32d",
   "display_name": "Python 3.7.7 64-bit ('myenv': conda)"
  }
 },
 "nbformat": 4,
 "nbformat_minor": 2
}